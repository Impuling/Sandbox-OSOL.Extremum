{
 "cells": [
  {
   "cell_type": "code",
   "execution_count": 71,
   "metadata": {},
   "outputs": [
    {
     "name": "stdout",
     "output_type": "stream",
     "text": [
      "/home/impuling/.local/share/virtualenvs/Sandbox-OSOL.Extremum-KWZGuzsU/lib/python3.6/site-packages/OSOL/Extremum/Numerical_Objects/Interval.py:20: UserWarning: Can not parse config.ini file. Setting default __MIN_WIDTH = 1e-3\n",
      "  warnings.warn('Can not parse config.ini file. Setting default __MIN_WIDTH = 1e-3')\n",
      "Processing\n",
      "Done\n"
     ]
    }
   ],
   "source": [
    "!pipenv run optimize"
   ]
  },
  {
   "cell_type": "code",
   "execution_count": 72,
   "metadata": {},
   "outputs": [
    {
     "name": "stdout",
     "output_type": "stream",
     "text": [
      "{\r\n",
      "  \"Vector\": {\r\n",
      "    \"values\": {\r\n",
      "      \"x1\": 1.0038952470918272,\r\n",
      "      \"x2\": 1.0078282327355212\r\n",
      "    }\r\n",
      "  }\r\n",
      "}"
     ]
    }
   ],
   "source": [
    "!cat ./result.txt"
   ]
  },
  {
   "cell_type": "code",
   "execution_count": 73,
   "metadata": {},
   "outputs": [],
   "source": [
    "!rm -r ./result.txt"
   ]
  }
 ],
 "metadata": {
  "kernelspec": {
   "display_name": "Python 3",
   "language": "python",
   "name": "python3"
  },
  "language_info": {
   "codemirror_mode": {
    "name": "ipython",
    "version": 3.0
   },
   "file_extension": ".py",
   "mimetype": "text/x-python",
   "name": "python",
   "nbconvert_exporter": "python",
   "pygments_lexer": "ipython3",
   "version": "3.6.5"
  }
 },
 "nbformat": 4,
 "nbformat_minor": 0
}