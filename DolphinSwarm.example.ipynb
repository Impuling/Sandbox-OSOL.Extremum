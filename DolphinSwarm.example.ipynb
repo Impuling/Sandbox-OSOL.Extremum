{
 "cells": [
  {
   "cell_type": "code",
   "execution_count": 68,
   "metadata": {},
   "outputs": [
    {
     "name": "stdout",
     "output_type": "stream",
     "text": [
      "/home/impuling/.local/share/virtualenvs/Sandbox-OSOL.Extremum-KWZGuzsU/lib/python3.6/site-packages/OSOL/Extremum/Numerical_Objects/Interval.py:20: UserWarning: Can not parse config.ini file. Setting default __MIN_WIDTH = 1e-3\n",
      "  warnings.warn('Can not parse config.ini file. Setting default __MIN_WIDTH = 1e-3')\n",
      "Processing\n",
      "Done\n"
     ]
    }
   ],
   "source": [
    "!pipenv run optimize"
   ]
  },
  {
   "cell_type": "code",
   "execution_count": 69,
   "metadata": {},
   "outputs": [
    {
     "name": "stdout",
     "output_type": "stream",
     "text": [
      "{\r\n",
      "  \"Vector\": {\r\n",
      "    \"values\": {\r\n",
      "      \"x2\": 1.0044297223720404,\r\n",
      "      \"x1\": 1.0022071531134173\r\n",
      "    }\r\n",
      "  }\r\n",
      "}"
     ]
    }
   ],
   "source": [
    "!cat ./result.txt"
   ]
  },
  {
   "cell_type": "code",
   "execution_count": 70,
   "metadata": {},
   "outputs": [],
   "source": [
    "!rm -r ./result.txt"
   ]
  }
 ],
 "metadata": {
  "kernelspec": {
   "display_name": "Python 3",
   "language": "python",
   "name": "python3"
  },
  "language_info": {
   "codemirror_mode": {
    "name": "ipython",
    "version": 3
   },
   "file_extension": ".py",
   "mimetype": "text/x-python",
   "name": "python",
   "nbconvert_exporter": "python",
   "pygments_lexer": "ipython3",
   "version": "3.6.5"
  }
 },
 "nbformat": 4,
 "nbformat_minor": 2
}
