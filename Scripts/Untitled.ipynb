{
 "cells": [
  {
   "cell_type": "code",
   "execution_count": 2,
   "metadata": {},
   "outputs": [],
   "source": [
    "from OSOL.Extremum.Optimization.Algorithms import *\n",
    "from OSOL.Extremum.Tools import OptimizationTools\n",
    "\n",
    "from OSOL.Extremum.Tools.Encoders import CustomEncoder as encoder\n",
    "\n",
    "import json"
   ]
  },
  {
   "cell_type": "code",
   "execution_count": 8,
   "metadata": {},
   "outputs": [
    {
     "name": "stdout",
     "output_type": "stream",
     "text": [
      "/home/impuling/.local/share/virtualenvs/Sandbox-OSOL.Extremum-KWZGuzsU/bin/python: can't open file 'OSOL/Extremum/Applications/optimize.py': [Errno 2] No such file or directory\r\n"
     ]
    }
   ],
   "source": [
    "!pipenv run optimize -A config_alg.json -T s:100 -P config_task.json -O results"
   ]
  }
 ],
 "metadata": {
  "kernelspec": {
   "display_name": "Python 3",
   "language": "python",
   "name": "python3"
  },
  "language_info": {
   "codemirror_mode": {
    "name": "ipython",
    "version": 3
   },
   "file_extension": ".py",
   "mimetype": "text/x-python",
   "name": "python",
   "nbconvert_exporter": "python",
   "pygments_lexer": "ipython3",
   "version": "3.6.5"
  }
 },
 "nbformat": 4,
 "nbformat_minor": 2
}
